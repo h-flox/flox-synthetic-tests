{
 "cells": [
  {
   "cell_type": "code",
   "execution_count": 1,
   "id": "initial_id",
   "metadata": {
    "collapsed": true,
    "ExecuteTime": {
     "end_time": "2024-03-29T18:44:33.204228Z",
     "start_time": "2024-03-29T18:44:33.197795Z"
    }
   },
   "outputs": [],
   "source": [
    "import os\n",
    "\n",
    "GLOBUS_CLIENT_ID = None\n",
    "GLOBUS_CLIENT_SECRET = None\n",
    "\n",
    "CHI_PROJ_NAME = \"CHI-231082\"\n",
    "LEASE_DURATION = 2  # units?\n",
    "N_DEVICES = 10\n",
    "\n",
    "DOCKER_IMAGE = \"valhayot/flox-images:latest\"\n",
    "\n",
    "CONTAINER_ENV = {\n",
    "    \"foo\": \"bar\",\n",
    "    # \"FUNCX_SDK_CLIENT_ID\": GLOBUS_CLIENT_ID,\n",
    "    # \"FUNCX_SDK_CLIENT_SECRET\": GLOBUS_CLIENT_SECRET,\n",
    "    # \"PROXYSTORE_GLOBUS_CLIENT_ID\": GLOBUS_CLIENT_ID,\n",
    "    # \"PROXYSTORE_GLOBUS_CLIENT_SECRET\": GLOBUS_CLIENT_SECRET,\n",
    "}\n",
    "\n",
    "# CONTAINER_PORTS = [5671, 8675, 6734, 5263, 6736, 7563, 6476, 7864, 8943, 8426]\n",
    "CONTAINER_PORTS = [5671, 8675]\n",
    "\n",
    "USERNAME = \"hudsonn\"\n",
    "MACHINE_NAME = \"raspberrypi4-64\"\n",
    "RESERVATION = \"3997075c-0a2c-4343-ae7c-f13486226ad9\""
   ]
  },
  {
   "cell_type": "code",
   "outputs": [
    {
     "name": "stdout",
     "output_type": "stream",
     "text": [
      "{'raspberrypi3-64': 'Raspberry Pi 3 (using 64bit OS)', 'raspberrypi4-64': 'Raspberry Pi 4 (using 64bit OS)', 'jetson-nano': 'Jetson Nano Devkit (SD Card, rev B01)', 'jetson-xavier-nx-emmc': 'Jetson Xavier NX Devkit (eMMC)'}\n",
      "Now using CHI@Edge:\n",
      "URL: https://chi.edge.chameleoncloud.org\n",
      "Location: University of Chicago, Chicago, Illinois, USA\n",
      "Support contact: help@chameleoncloud.org\n"
     ]
    }
   ],
   "source": [
    "import chi\n",
    "import chi_edge\n",
    "\n",
    "print(chi_edge.SUPPORTED_MACHINE_NAMES)\n",
    "\n",
    "chi.set(\"project_domain_name\", \"chameleon\")\n",
    "chi.set(\"project_name\", CHI_PROJ_NAME)\n",
    "chi.use_site(\"CHI@Edge\")"
   ],
   "metadata": {
    "collapsed": false,
    "ExecuteTime": {
     "end_time": "2024-03-29T18:44:36.628345Z",
     "start_time": "2024-03-29T18:44:36.012899Z"
    }
   },
   "id": "ef400feb02059bfe",
   "execution_count": 2
  },
  {
   "cell_type": "code",
   "outputs": [],
   "source": [
    "from chi import container, lease\n",
    "\n",
    "\n",
    "def create_reservation(\n",
    "        username: str,\n",
    "        machine_name: str,\n",
    "        lease_days: int = 1,\n",
    "        lease_hours: int = 0,\n",
    "        n_devices: int = 1,\n",
    "):\n",
    "    start, end = lease.lease_duration(days=lease_days, hours=lease_hours)\n",
    "    lease_name = f\"{username}-{machine_name}-{start}\"\n",
    "\n",
    "    reservations = []\n",
    "    lease.add_device_reservation(reservations, count=n_devices, device_name=machine_name)\n",
    "    container_lease = lease.create_lease(lease_name, reservations)\n",
    "    lease_id = container_lease[\"id\"]\n",
    "    reservation_id = lease.get_device_reservation(lease_id)\n",
    "\n",
    "    print(\n",
    "        f\"❯ Created lease with {lease_name=}, uuid={lease_id}, and {reservation_id=}... \"\n",
    "        f\"Waiting for it to start. This can take up to 60 seconds.\"\n",
    "    )\n",
    "\n",
    "    lease.wait_for_active(lease_id)\n",
    "    print(\"❯ Done!\")\n",
    "\n",
    "    return reservation_id\n",
    "\n",
    "\n",
    "def create_container(\n",
    "        username: str,\n",
    "        machine_name: str,\n",
    "        reservation_id: str,\n",
    "        docker_image,\n",
    "        container_ports,\n",
    "        container_env,\n",
    "        name_suffix: str | None = None,\n",
    "):\n",
    "    print(\"❯ Requesting container...\")\n",
    "    if name_suffix is not None:\n",
    "        container_name = f\"{username}-{machine_name}-{name_suffix}\".replace(\"_\", \"-\")\n",
    "    else:\n",
    "        container_name = f\"{username}-{machine_name}\".replace(\"_\", \"-\")\n",
    "\n",
    "    try:\n",
    "        my_container = container.create_container(\n",
    "            container_name,\n",
    "            image=docker_image,\n",
    "            exposed_ports=container_ports,\n",
    "            environment=container_env,\n",
    "            reservation_id=reservation_id,\n",
    "            platform_version=2,\n",
    "        )\n",
    "    except RuntimeError as err:\n",
    "        print(err)\n",
    "        print(f\"❯ [ERR] Please stop and/or delete {container_name} and try again.\")\n",
    "    else:\n",
    "        print(f\"❯ Successfully created container: {container_name}!\")\n",
    "\n",
    "    return my_container\n"
   ],
   "metadata": {
    "collapsed": false,
    "ExecuteTime": {
     "end_time": "2024-03-29T18:45:55.818983Z",
     "start_time": "2024-03-29T18:45:55.635825Z"
    }
   },
   "id": "64f721ffc8dacb6e",
   "execution_count": 3
  },
  {
   "cell_type": "code",
   "outputs": [
    {
     "data": {
      "text/plain": "['allow', 'deny']"
     },
     "execution_count": 7,
     "metadata": {},
     "output_type": "execute_result"
    }
   ],
   "source": [
    "# if RESERVATION is None:\n",
    "#     RESERVATION = create_reservation(USERNAME, MACHINE_NAME, n_devices=N_DEVICES)"
   ],
   "metadata": {
    "collapsed": false,
    "ExecuteTime": {
     "end_time": "2024-03-28T04:24:26.378330Z",
     "start_time": "2024-03-28T04:24:26.367414Z"
    }
   },
   "id": "13ac190558369136",
   "execution_count": 7
  },
  {
   "cell_type": "code",
   "outputs": [
    {
     "name": "stdout",
     "output_type": "stream",
     "text": [
      "❯ Requesting container...\n"
     ]
    },
    {
     "ename": "BadRequest",
     "evalue": "Invalid input for field 'identity/token/id': None is not of type 'string'\n\nFailed validating 'type' in schema['properties']['identity']['properties']['token']['properties']['id']:\n    {'type': 'string'}\n\nOn instance['identity']['token']['id']:\n    None (HTTP 400) (Request-ID: req-397902ac-ba14-467b-b772-87083f491b5d)",
     "output_type": "error",
     "traceback": [
      "\u001B[0;31m---------------------------------------------------------------------------\u001B[0m",
      "\u001B[0;31mBadRequest\u001B[0m                                Traceback (most recent call last)",
      "Cell \u001B[0;32mIn[4], line 3\u001B[0m\n\u001B[1;32m      1\u001B[0m workers \u001B[38;5;241m=\u001B[39m []\n\u001B[1;32m      2\u001B[0m \u001B[38;5;28;01mfor\u001B[39;00m i \u001B[38;5;129;01min\u001B[39;00m \u001B[38;5;28mrange\u001B[39m(N_DEVICES):\n\u001B[0;32m----> 3\u001B[0m     w \u001B[38;5;241m=\u001B[39m \u001B[43mcreate_container\u001B[49m\u001B[43m(\u001B[49m\n\u001B[1;32m      4\u001B[0m \u001B[43m        \u001B[49m\u001B[43mUSERNAME\u001B[49m\u001B[43m,\u001B[49m\u001B[43m \u001B[49m\u001B[43mMACHINE_NAME\u001B[49m\u001B[43m,\u001B[49m\u001B[43m \u001B[49m\u001B[43mRESERVATION\u001B[49m\u001B[43m,\u001B[49m\u001B[43m \u001B[49m\u001B[43mDOCKER_IMAGE\u001B[49m\u001B[43m,\u001B[49m\n\u001B[1;32m      5\u001B[0m \u001B[43m        \u001B[49m\u001B[43mCONTAINER_PORTS\u001B[49m\u001B[43m,\u001B[49m\u001B[43m \u001B[49m\u001B[43mCONTAINER_ENV\u001B[49m\u001B[43m,\u001B[49m\u001B[43m \u001B[49m\u001B[43mname_suffix\u001B[49m\u001B[38;5;241;43m=\u001B[39;49m\u001B[38;5;124;43mf\u001B[39;49m\u001B[38;5;124;43m\"\u001B[39;49m\u001B[38;5;132;43;01m{\u001B[39;49;00m\u001B[43mi\u001B[49m\u001B[38;5;132;43;01m}\u001B[39;49;00m\u001B[38;5;124;43m\"\u001B[39;49m\n\u001B[1;32m      6\u001B[0m \u001B[43m    \u001B[49m\u001B[43m)\u001B[49m\n\u001B[1;32m      7\u001B[0m     workers\u001B[38;5;241m.\u001B[39mappend(w)\n\u001B[1;32m      9\u001B[0m workers\n",
      "Cell \u001B[0;32mIn[3], line 47\u001B[0m, in \u001B[0;36mcreate_container\u001B[0;34m(username, machine_name, reservation_id, docker_image, container_ports, container_env, name_suffix)\u001B[0m\n\u001B[1;32m     44\u001B[0m     container_name \u001B[38;5;241m=\u001B[39m \u001B[38;5;124mf\u001B[39m\u001B[38;5;124m\"\u001B[39m\u001B[38;5;132;01m{\u001B[39;00musername\u001B[38;5;132;01m}\u001B[39;00m\u001B[38;5;124m-\u001B[39m\u001B[38;5;132;01m{\u001B[39;00mmachine_name\u001B[38;5;132;01m}\u001B[39;00m\u001B[38;5;124m\"\u001B[39m\u001B[38;5;241m.\u001B[39mreplace(\u001B[38;5;124m\"\u001B[39m\u001B[38;5;124m_\u001B[39m\u001B[38;5;124m\"\u001B[39m, \u001B[38;5;124m\"\u001B[39m\u001B[38;5;124m-\u001B[39m\u001B[38;5;124m\"\u001B[39m)\n\u001B[1;32m     46\u001B[0m \u001B[38;5;28;01mtry\u001B[39;00m:\n\u001B[0;32m---> 47\u001B[0m     my_container \u001B[38;5;241m=\u001B[39m \u001B[43mcontainer\u001B[49m\u001B[38;5;241;43m.\u001B[39;49m\u001B[43mcreate_container\u001B[49m\u001B[43m(\u001B[49m\n\u001B[1;32m     48\u001B[0m \u001B[43m        \u001B[49m\u001B[43mcontainer_name\u001B[49m\u001B[43m,\u001B[49m\n\u001B[1;32m     49\u001B[0m \u001B[43m        \u001B[49m\u001B[43mimage\u001B[49m\u001B[38;5;241;43m=\u001B[39;49m\u001B[43mdocker_image\u001B[49m\u001B[43m,\u001B[49m\n\u001B[1;32m     50\u001B[0m \u001B[43m        \u001B[49m\u001B[43mexposed_ports\u001B[49m\u001B[38;5;241;43m=\u001B[39;49m\u001B[43mcontainer_ports\u001B[49m\u001B[43m,\u001B[49m\n\u001B[1;32m     51\u001B[0m \u001B[43m        \u001B[49m\u001B[43menvironment\u001B[49m\u001B[38;5;241;43m=\u001B[39;49m\u001B[43mcontainer_env\u001B[49m\u001B[43m,\u001B[49m\n\u001B[1;32m     52\u001B[0m \u001B[43m        \u001B[49m\u001B[43mreservation_id\u001B[49m\u001B[38;5;241;43m=\u001B[39;49m\u001B[43mreservation_id\u001B[49m\u001B[43m,\u001B[49m\n\u001B[1;32m     53\u001B[0m \u001B[43m        \u001B[49m\u001B[43mplatform_version\u001B[49m\u001B[38;5;241;43m=\u001B[39;49m\u001B[38;5;241;43m2\u001B[39;49m\u001B[43m,\u001B[49m\n\u001B[1;32m     54\u001B[0m \u001B[43m    \u001B[49m\u001B[43m)\u001B[49m\n\u001B[1;32m     55\u001B[0m \u001B[38;5;28;01mexcept\u001B[39;00m \u001B[38;5;167;01mRuntimeError\u001B[39;00m \u001B[38;5;28;01mas\u001B[39;00m err:\n\u001B[1;32m     56\u001B[0m     \u001B[38;5;28mprint\u001B[39m(err)\n",
      "File \u001B[0;32m~/miniconda3/envs/flox-experiments/lib/python3.11/site-packages/chi/container.py:105\u001B[0m, in \u001B[0;36mcreate_container\u001B[0;34m(name, image, image_driver, device_profiles, environment, exposed_ports, runtime, nets, network_id, network_name, reservation_id, start, start_timeout, platform_version, **kwargs)\u001B[0m\n\u001B[1;32m    103\u001B[0m \u001B[38;5;28;01mif\u001B[39;00m \u001B[38;5;129;01mnot\u001B[39;00m nets:\n\u001B[1;32m    104\u001B[0m     \u001B[38;5;28;01mif\u001B[39;00m \u001B[38;5;129;01mnot\u001B[39;00m network_id:\n\u001B[0;32m--> 105\u001B[0m         network_id \u001B[38;5;241m=\u001B[39m \u001B[43mget_network_id\u001B[49m\u001B[43m(\u001B[49m\u001B[43mnetwork_name\u001B[49m\u001B[43m)\u001B[49m\n\u001B[1;32m    106\u001B[0m     nets \u001B[38;5;241m=\u001B[39m [{\u001B[38;5;124m\"\u001B[39m\u001B[38;5;124mnetwork\u001B[39m\u001B[38;5;124m\"\u001B[39m: network_id}]\n\u001B[1;32m    108\u001B[0m hints \u001B[38;5;241m=\u001B[39m kwargs\u001B[38;5;241m.\u001B[39msetdefault(\u001B[38;5;124m\"\u001B[39m\u001B[38;5;124mhints\u001B[39m\u001B[38;5;124m\"\u001B[39m, {})\n",
      "File \u001B[0;32m~/miniconda3/envs/flox-experiments/lib/python3.11/site-packages/chi/network.py:120\u001B[0m, in \u001B[0;36mget_network_id\u001B[0;34m(name)\u001B[0m\n\u001B[1;32m    107\u001B[0m \u001B[38;5;28;01mdef\u001B[39;00m \u001B[38;5;21mget_network_id\u001B[39m(name) \u001B[38;5;241m-\u001B[39m\u001B[38;5;241m>\u001B[39m \u001B[38;5;28mstr\u001B[39m:\n\u001B[1;32m    108\u001B[0m \u001B[38;5;250m    \u001B[39m\u001B[38;5;124;03m\"\"\"Look up a network's ID from its name.\u001B[39;00m\n\u001B[1;32m    109\u001B[0m \n\u001B[1;32m    110\u001B[0m \u001B[38;5;124;03m    Args:\u001B[39;00m\n\u001B[0;32m   (...)\u001B[0m\n\u001B[1;32m    118\u001B[0m \u001B[38;5;124;03m            were returned for the search term.\u001B[39;00m\n\u001B[1;32m    119\u001B[0m \u001B[38;5;124;03m    \"\"\"\u001B[39;00m\n\u001B[0;32m--> 120\u001B[0m     \u001B[38;5;28;01mreturn\u001B[39;00m \u001B[43m_resolve_id\u001B[49m\u001B[43m(\u001B[49m\u001B[38;5;124;43m'\u001B[39;49m\u001B[38;5;124;43mnetworks\u001B[39;49m\u001B[38;5;124;43m'\u001B[39;49m\u001B[43m,\u001B[49m\u001B[43m \u001B[49m\u001B[43mname\u001B[49m\u001B[43m)\u001B[49m\n",
      "File \u001B[0;32m~/miniconda3/envs/flox-experiments/lib/python3.11/site-packages/chi/network.py:64\u001B[0m, in \u001B[0;36m_resolve_id\u001B[0;34m(resource, name)\u001B[0m\n\u001B[1;32m     61\u001B[0m \u001B[38;5;28;01mif\u001B[39;00m \u001B[38;5;129;01mnot\u001B[39;00m \u001B[38;5;28mcallable\u001B[39m(list_fn):\n\u001B[1;32m     62\u001B[0m     \u001B[38;5;28;01mraise\u001B[39;00m \u001B[38;5;167;01mValueError\u001B[39;00m(\u001B[38;5;124mf\u001B[39m\u001B[38;5;124m'\u001B[39m\u001B[38;5;124mInvalid resource type \u001B[39m\u001B[38;5;124m\"\u001B[39m\u001B[38;5;132;01m{\u001B[39;00mresource\u001B[38;5;132;01m}\u001B[39;00m\u001B[38;5;124m\"\u001B[39m\u001B[38;5;124m'\u001B[39m)\n\u001B[1;32m     63\u001B[0m resources \u001B[38;5;241m=\u001B[39m [\n\u001B[0;32m---> 64\u001B[0m     x \u001B[38;5;28;01mfor\u001B[39;00m x \u001B[38;5;129;01min\u001B[39;00m \u001B[43mlist_fn\u001B[49m\u001B[43m(\u001B[49m\u001B[43m)\u001B[49m[resource]\n\u001B[1;32m     65\u001B[0m     \u001B[38;5;28;01mif\u001B[39;00m x[\u001B[38;5;124m'\u001B[39m\u001B[38;5;124mname\u001B[39m\u001B[38;5;124m'\u001B[39m] \u001B[38;5;241m==\u001B[39m name\n\u001B[1;32m     66\u001B[0m ]\n\u001B[1;32m     67\u001B[0m \u001B[38;5;28;01mif\u001B[39;00m \u001B[38;5;129;01mnot\u001B[39;00m resources:\n\u001B[1;32m     68\u001B[0m     \u001B[38;5;28;01mraise\u001B[39;00m \u001B[38;5;167;01mRuntimeError\u001B[39;00m(\u001B[38;5;124mf\u001B[39m\u001B[38;5;124m'\u001B[39m\u001B[38;5;124mNo \u001B[39m\u001B[38;5;132;01m{\u001B[39;00mresource\u001B[38;5;132;01m}\u001B[39;00m\u001B[38;5;124m found with name \u001B[39m\u001B[38;5;132;01m{\u001B[39;00mname\u001B[38;5;132;01m}\u001B[39;00m\u001B[38;5;124m'\u001B[39m)\n",
      "File \u001B[0;32m~/miniconda3/envs/flox-experiments/lib/python3.11/site-packages/neutronclient/v2_0/client.py:860\u001B[0m, in \u001B[0;36mClient.list_networks\u001B[0;34m(self, retrieve_all, **_params)\u001B[0m\n\u001B[1;32m    858\u001B[0m \u001B[38;5;250m\u001B[39m\u001B[38;5;124;03m\"\"\"Fetches a list of all networks for a project.\"\"\"\u001B[39;00m\n\u001B[1;32m    859\u001B[0m \u001B[38;5;66;03m# Pass filters in \"params\" argument to do_request\u001B[39;00m\n\u001B[0;32m--> 860\u001B[0m \u001B[38;5;28;01mreturn\u001B[39;00m \u001B[38;5;28;43mself\u001B[39;49m\u001B[38;5;241;43m.\u001B[39;49m\u001B[43mlist\u001B[49m\u001B[43m(\u001B[49m\u001B[38;5;124;43m'\u001B[39;49m\u001B[38;5;124;43mnetworks\u001B[39;49m\u001B[38;5;124;43m'\u001B[39;49m\u001B[43m,\u001B[49m\u001B[43m \u001B[49m\u001B[38;5;28;43mself\u001B[39;49m\u001B[38;5;241;43m.\u001B[39;49m\u001B[43mnetworks_path\u001B[49m\u001B[43m,\u001B[49m\u001B[43m \u001B[49m\u001B[43mretrieve_all\u001B[49m\u001B[43m,\u001B[49m\n\u001B[1;32m    861\u001B[0m \u001B[43m                 \u001B[49m\u001B[38;5;241;43m*\u001B[39;49m\u001B[38;5;241;43m*\u001B[39;49m\u001B[43m_params\u001B[49m\u001B[43m)\u001B[49m\n",
      "File \u001B[0;32m~/miniconda3/envs/flox-experiments/lib/python3.11/site-packages/neutronclient/v2_0/client.py:372\u001B[0m, in \u001B[0;36mClientBase.list\u001B[0;34m(self, collection, path, retrieve_all, **params)\u001B[0m\n\u001B[1;32m    370\u001B[0m res \u001B[38;5;241m=\u001B[39m []\n\u001B[1;32m    371\u001B[0m request_ids \u001B[38;5;241m=\u001B[39m []\n\u001B[0;32m--> 372\u001B[0m \u001B[43m\u001B[49m\u001B[38;5;28;43;01mfor\u001B[39;49;00m\u001B[43m \u001B[49m\u001B[43mr\u001B[49m\u001B[43m \u001B[49m\u001B[38;5;129;43;01min\u001B[39;49;00m\u001B[43m \u001B[49m\u001B[38;5;28;43mself\u001B[39;49m\u001B[38;5;241;43m.\u001B[39;49m\u001B[43m_pagination\u001B[49m\u001B[43m(\u001B[49m\u001B[43mcollection\u001B[49m\u001B[43m,\u001B[49m\u001B[43m \u001B[49m\u001B[43mpath\u001B[49m\u001B[43m,\u001B[49m\u001B[43m \u001B[49m\u001B[38;5;241;43m*\u001B[39;49m\u001B[38;5;241;43m*\u001B[39;49m\u001B[43mparams\u001B[49m\u001B[43m)\u001B[49m\u001B[43m:\u001B[49m\n\u001B[1;32m    373\u001B[0m \u001B[43m    \u001B[49m\u001B[43mres\u001B[49m\u001B[38;5;241;43m.\u001B[39;49m\u001B[43mextend\u001B[49m\u001B[43m(\u001B[49m\u001B[43mr\u001B[49m\u001B[43m[\u001B[49m\u001B[43mcollection\u001B[49m\u001B[43m]\u001B[49m\u001B[43m)\u001B[49m\n\u001B[1;32m    374\u001B[0m \u001B[43m    \u001B[49m\u001B[43mrequest_ids\u001B[49m\u001B[38;5;241;43m.\u001B[39;49m\u001B[43mextend\u001B[49m\u001B[43m(\u001B[49m\u001B[43mr\u001B[49m\u001B[38;5;241;43m.\u001B[39;49m\u001B[43mrequest_ids\u001B[49m\u001B[43m)\u001B[49m\n",
      "File \u001B[0;32m~/miniconda3/envs/flox-experiments/lib/python3.11/site-packages/neutronclient/v2_0/client.py:387\u001B[0m, in \u001B[0;36mClientBase._pagination\u001B[0;34m(self, collection, path, **params)\u001B[0m\n\u001B[1;32m    385\u001B[0m \u001B[38;5;28mnext\u001B[39m \u001B[38;5;241m=\u001B[39m \u001B[38;5;28;01mTrue\u001B[39;00m\n\u001B[1;32m    386\u001B[0m \u001B[38;5;28;01mwhile\u001B[39;00m \u001B[38;5;28mnext\u001B[39m:\n\u001B[0;32m--> 387\u001B[0m     res \u001B[38;5;241m=\u001B[39m \u001B[38;5;28;43mself\u001B[39;49m\u001B[38;5;241;43m.\u001B[39;49m\u001B[43mget\u001B[49m\u001B[43m(\u001B[49m\u001B[43mpath\u001B[49m\u001B[43m,\u001B[49m\u001B[43m \u001B[49m\u001B[43mparams\u001B[49m\u001B[38;5;241;43m=\u001B[39;49m\u001B[43mparams\u001B[49m\u001B[43m)\u001B[49m\n\u001B[1;32m    388\u001B[0m     \u001B[38;5;28;01myield\u001B[39;00m res\n\u001B[1;32m    389\u001B[0m     \u001B[38;5;28mnext\u001B[39m \u001B[38;5;241m=\u001B[39m \u001B[38;5;28;01mFalse\u001B[39;00m\n",
      "File \u001B[0;32m~/miniconda3/envs/flox-experiments/lib/python3.11/site-packages/neutronclient/v2_0/client.py:356\u001B[0m, in \u001B[0;36mClientBase.get\u001B[0;34m(self, action, body, headers, params)\u001B[0m\n\u001B[1;32m    355\u001B[0m \u001B[38;5;28;01mdef\u001B[39;00m \u001B[38;5;21mget\u001B[39m(\u001B[38;5;28mself\u001B[39m, action, body\u001B[38;5;241m=\u001B[39m\u001B[38;5;28;01mNone\u001B[39;00m, headers\u001B[38;5;241m=\u001B[39m\u001B[38;5;28;01mNone\u001B[39;00m, params\u001B[38;5;241m=\u001B[39m\u001B[38;5;28;01mNone\u001B[39;00m):\n\u001B[0;32m--> 356\u001B[0m     \u001B[38;5;28;01mreturn\u001B[39;00m \u001B[38;5;28;43mself\u001B[39;49m\u001B[38;5;241;43m.\u001B[39;49m\u001B[43mretry_request\u001B[49m\u001B[43m(\u001B[49m\u001B[38;5;124;43m\"\u001B[39;49m\u001B[38;5;124;43mGET\u001B[39;49m\u001B[38;5;124;43m\"\u001B[39;49m\u001B[43m,\u001B[49m\u001B[43m \u001B[49m\u001B[43maction\u001B[49m\u001B[43m,\u001B[49m\u001B[43m \u001B[49m\u001B[43mbody\u001B[49m\u001B[38;5;241;43m=\u001B[39;49m\u001B[43mbody\u001B[49m\u001B[43m,\u001B[49m\n\u001B[1;32m    357\u001B[0m \u001B[43m                              \u001B[49m\u001B[43mheaders\u001B[49m\u001B[38;5;241;43m=\u001B[39;49m\u001B[43mheaders\u001B[49m\u001B[43m,\u001B[49m\u001B[43m \u001B[49m\u001B[43mparams\u001B[49m\u001B[38;5;241;43m=\u001B[39;49m\u001B[43mparams\u001B[49m\u001B[43m)\u001B[49m\n",
      "File \u001B[0;32m~/miniconda3/envs/flox-experiments/lib/python3.11/site-packages/neutronclient/v2_0/client.py:333\u001B[0m, in \u001B[0;36mClientBase.retry_request\u001B[0;34m(self, method, action, body, headers, params)\u001B[0m\n\u001B[1;32m    331\u001B[0m \u001B[38;5;28;01mfor\u001B[39;00m i \u001B[38;5;129;01min\u001B[39;00m \u001B[38;5;28mrange\u001B[39m(max_attempts):\n\u001B[1;32m    332\u001B[0m     \u001B[38;5;28;01mtry\u001B[39;00m:\n\u001B[0;32m--> 333\u001B[0m         \u001B[38;5;28;01mreturn\u001B[39;00m \u001B[38;5;28;43mself\u001B[39;49m\u001B[38;5;241;43m.\u001B[39;49m\u001B[43mdo_request\u001B[49m\u001B[43m(\u001B[49m\u001B[43mmethod\u001B[49m\u001B[43m,\u001B[49m\u001B[43m \u001B[49m\u001B[43maction\u001B[49m\u001B[43m,\u001B[49m\u001B[43m \u001B[49m\u001B[43mbody\u001B[49m\u001B[38;5;241;43m=\u001B[39;49m\u001B[43mbody\u001B[49m\u001B[43m,\u001B[49m\n\u001B[1;32m    334\u001B[0m \u001B[43m                               \u001B[49m\u001B[43mheaders\u001B[49m\u001B[38;5;241;43m=\u001B[39;49m\u001B[43mheaders\u001B[49m\u001B[43m,\u001B[49m\u001B[43m \u001B[49m\u001B[43mparams\u001B[49m\u001B[38;5;241;43m=\u001B[39;49m\u001B[43mparams\u001B[49m\u001B[43m)\u001B[49m\n\u001B[1;32m    335\u001B[0m     \u001B[38;5;28;01mexcept\u001B[39;00m (exceptions\u001B[38;5;241m.\u001B[39mConnectionFailed, ksa_exc\u001B[38;5;241m.\u001B[39mConnectionError):\n\u001B[1;32m    336\u001B[0m         \u001B[38;5;66;03m# Exception has already been logged by do_request()\u001B[39;00m\n\u001B[1;32m    337\u001B[0m         \u001B[38;5;28;01mif\u001B[39;00m i \u001B[38;5;241m<\u001B[39m \u001B[38;5;28mself\u001B[39m\u001B[38;5;241m.\u001B[39mretries:\n",
      "File \u001B[0;32m~/miniconda3/envs/flox-experiments/lib/python3.11/site-packages/neutronclient/v2_0/client.py:284\u001B[0m, in \u001B[0;36mClientBase.do_request\u001B[0;34m(self, method, action, body, headers, params)\u001B[0m\n\u001B[1;32m    281\u001B[0m \u001B[38;5;28;01mif\u001B[39;00m body:\n\u001B[1;32m    282\u001B[0m     body \u001B[38;5;241m=\u001B[39m \u001B[38;5;28mself\u001B[39m\u001B[38;5;241m.\u001B[39mserialize(body)\n\u001B[0;32m--> 284\u001B[0m resp, replybody \u001B[38;5;241m=\u001B[39m \u001B[38;5;28;43mself\u001B[39;49m\u001B[38;5;241;43m.\u001B[39;49m\u001B[43mhttpclient\u001B[49m\u001B[38;5;241;43m.\u001B[39;49m\u001B[43mdo_request\u001B[49m\u001B[43m(\u001B[49m\u001B[43maction\u001B[49m\u001B[43m,\u001B[49m\u001B[43m \u001B[49m\u001B[43mmethod\u001B[49m\u001B[43m,\u001B[49m\u001B[43m \u001B[49m\u001B[43mbody\u001B[49m\u001B[38;5;241;43m=\u001B[39;49m\u001B[43mbody\u001B[49m\u001B[43m,\u001B[49m\n\u001B[1;32m    285\u001B[0m \u001B[43m                                             \u001B[49m\u001B[43mheaders\u001B[49m\u001B[38;5;241;43m=\u001B[39;49m\u001B[43mheaders\u001B[49m\u001B[43m)\u001B[49m\n\u001B[1;32m    287\u001B[0m status_code \u001B[38;5;241m=\u001B[39m resp\u001B[38;5;241m.\u001B[39mstatus_code\n\u001B[1;32m    288\u001B[0m \u001B[38;5;28;01mif\u001B[39;00m status_code \u001B[38;5;129;01min\u001B[39;00m (requests\u001B[38;5;241m.\u001B[39mcodes\u001B[38;5;241m.\u001B[39mok,\n\u001B[1;32m    289\u001B[0m                    requests\u001B[38;5;241m.\u001B[39mcodes\u001B[38;5;241m.\u001B[39mcreated,\n\u001B[1;32m    290\u001B[0m                    requests\u001B[38;5;241m.\u001B[39mcodes\u001B[38;5;241m.\u001B[39maccepted,\n\u001B[1;32m    291\u001B[0m                    requests\u001B[38;5;241m.\u001B[39mcodes\u001B[38;5;241m.\u001B[39mno_content):\n",
      "File \u001B[0;32m~/miniconda3/envs/flox-experiments/lib/python3.11/site-packages/neutronclient/client.py:341\u001B[0m, in \u001B[0;36mSessionClient.do_request\u001B[0;34m(self, url, method, **kwargs)\u001B[0m\n\u001B[1;32m    339\u001B[0m \u001B[38;5;28;01mdef\u001B[39;00m \u001B[38;5;21mdo_request\u001B[39m(\u001B[38;5;28mself\u001B[39m, url, method, \u001B[38;5;241m*\u001B[39m\u001B[38;5;241m*\u001B[39mkwargs):\n\u001B[1;32m    340\u001B[0m     kwargs\u001B[38;5;241m.\u001B[39msetdefault(\u001B[38;5;124m'\u001B[39m\u001B[38;5;124mauthenticated\u001B[39m\u001B[38;5;124m'\u001B[39m, \u001B[38;5;28;01mTrue\u001B[39;00m)\n\u001B[0;32m--> 341\u001B[0m     \u001B[38;5;28;43mself\u001B[39;49m\u001B[38;5;241;43m.\u001B[39;49m\u001B[43m_check_uri_length\u001B[49m\u001B[43m(\u001B[49m\u001B[43murl\u001B[49m\u001B[43m)\u001B[49m\n\u001B[1;32m    342\u001B[0m     \u001B[38;5;28;01mreturn\u001B[39;00m \u001B[38;5;28mself\u001B[39m\u001B[38;5;241m.\u001B[39mrequest(url, method, \u001B[38;5;241m*\u001B[39m\u001B[38;5;241m*\u001B[39mkwargs)\n",
      "File \u001B[0;32m~/miniconda3/envs/flox-experiments/lib/python3.11/site-packages/neutronclient/client.py:334\u001B[0m, in \u001B[0;36mSessionClient._check_uri_length\u001B[0;34m(self, url)\u001B[0m\n\u001B[1;32m    333\u001B[0m \u001B[38;5;28;01mdef\u001B[39;00m \u001B[38;5;21m_check_uri_length\u001B[39m(\u001B[38;5;28mself\u001B[39m, url):\n\u001B[0;32m--> 334\u001B[0m     uri_len \u001B[38;5;241m=\u001B[39m \u001B[38;5;28mlen\u001B[39m(\u001B[38;5;28;43mself\u001B[39;49m\u001B[38;5;241;43m.\u001B[39;49m\u001B[43mendpoint_url\u001B[49m) \u001B[38;5;241m+\u001B[39m \u001B[38;5;28mlen\u001B[39m(url)\n\u001B[1;32m    335\u001B[0m     \u001B[38;5;28;01mif\u001B[39;00m uri_len \u001B[38;5;241m>\u001B[39m MAX_URI_LEN:\n\u001B[1;32m    336\u001B[0m         \u001B[38;5;28;01mraise\u001B[39;00m exceptions\u001B[38;5;241m.\u001B[39mRequestURITooLong(\n\u001B[1;32m    337\u001B[0m             excess\u001B[38;5;241m=\u001B[39muri_len \u001B[38;5;241m-\u001B[39m MAX_URI_LEN)\n",
      "File \u001B[0;32m~/miniconda3/envs/flox-experiments/lib/python3.11/site-packages/neutronclient/client.py:348\u001B[0m, in \u001B[0;36mSessionClient.endpoint_url\u001B[0;34m(self)\u001B[0m\n\u001B[1;32m    344\u001B[0m \u001B[38;5;129m@property\u001B[39m\n\u001B[1;32m    345\u001B[0m \u001B[38;5;28;01mdef\u001B[39;00m \u001B[38;5;21mendpoint_url\u001B[39m(\u001B[38;5;28mself\u001B[39m):\n\u001B[1;32m    346\u001B[0m     \u001B[38;5;66;03m# NOTE(jamielennox): This is used purely by the CLI and should be\u001B[39;00m\n\u001B[1;32m    347\u001B[0m     \u001B[38;5;66;03m# removed when the CLI gets smarter.\u001B[39;00m\n\u001B[0;32m--> 348\u001B[0m     \u001B[38;5;28;01mreturn\u001B[39;00m \u001B[38;5;28;43mself\u001B[39;49m\u001B[38;5;241;43m.\u001B[39;49m\u001B[43mget_endpoint\u001B[49m\u001B[43m(\u001B[49m\u001B[43m)\u001B[49m\n",
      "File \u001B[0;32m~/miniconda3/envs/flox-experiments/lib/python3.11/site-packages/keystoneauth1/adapter.py:291\u001B[0m, in \u001B[0;36mAdapter.get_endpoint\u001B[0;34m(self, auth, **kwargs)\u001B[0m\n\u001B[1;32m    288\u001B[0m     \u001B[38;5;28;01mreturn\u001B[39;00m \u001B[38;5;28mself\u001B[39m\u001B[38;5;241m.\u001B[39mendpoint_override\n\u001B[1;32m    290\u001B[0m \u001B[38;5;28mself\u001B[39m\u001B[38;5;241m.\u001B[39m_set_endpoint_filter_kwargs(kwargs)\n\u001B[0;32m--> 291\u001B[0m \u001B[38;5;28;01mreturn\u001B[39;00m \u001B[38;5;28;43mself\u001B[39;49m\u001B[38;5;241;43m.\u001B[39;49m\u001B[43msession\u001B[49m\u001B[38;5;241;43m.\u001B[39;49m\u001B[43mget_endpoint\u001B[49m\u001B[43m(\u001B[49m\u001B[43mauth\u001B[49m\u001B[43m \u001B[49m\u001B[38;5;129;43;01mor\u001B[39;49;00m\u001B[43m \u001B[49m\u001B[38;5;28;43mself\u001B[39;49m\u001B[38;5;241;43m.\u001B[39;49m\u001B[43mauth\u001B[49m\u001B[43m,\u001B[49m\u001B[43m \u001B[49m\u001B[38;5;241;43m*\u001B[39;49m\u001B[38;5;241;43m*\u001B[39;49m\u001B[43mkwargs\u001B[49m\u001B[43m)\u001B[49m\n",
      "File \u001B[0;32m~/miniconda3/envs/flox-experiments/lib/python3.11/site-packages/keystoneauth1/adapter.py:291\u001B[0m, in \u001B[0;36mAdapter.get_endpoint\u001B[0;34m(self, auth, **kwargs)\u001B[0m\n\u001B[1;32m    288\u001B[0m     \u001B[38;5;28;01mreturn\u001B[39;00m \u001B[38;5;28mself\u001B[39m\u001B[38;5;241m.\u001B[39mendpoint_override\n\u001B[1;32m    290\u001B[0m \u001B[38;5;28mself\u001B[39m\u001B[38;5;241m.\u001B[39m_set_endpoint_filter_kwargs(kwargs)\n\u001B[0;32m--> 291\u001B[0m \u001B[38;5;28;01mreturn\u001B[39;00m \u001B[38;5;28;43mself\u001B[39;49m\u001B[38;5;241;43m.\u001B[39;49m\u001B[43msession\u001B[49m\u001B[38;5;241;43m.\u001B[39;49m\u001B[43mget_endpoint\u001B[49m\u001B[43m(\u001B[49m\u001B[43mauth\u001B[49m\u001B[43m \u001B[49m\u001B[38;5;129;43;01mor\u001B[39;49;00m\u001B[43m \u001B[49m\u001B[38;5;28;43mself\u001B[39;49m\u001B[38;5;241;43m.\u001B[39;49m\u001B[43mauth\u001B[49m\u001B[43m,\u001B[49m\u001B[43m \u001B[49m\u001B[38;5;241;43m*\u001B[39;49m\u001B[38;5;241;43m*\u001B[39;49m\u001B[43mkwargs\u001B[49m\u001B[43m)\u001B[49m\n",
      "File \u001B[0;32m~/miniconda3/envs/flox-experiments/lib/python3.11/site-packages/keystoneauth1/session.py:1243\u001B[0m, in \u001B[0;36mSession.get_endpoint\u001B[0;34m(self, auth, **kwargs)\u001B[0m\n\u001B[1;32m   1239\u001B[0m     \u001B[38;5;28;01mreturn\u001B[39;00m kwargs[\u001B[38;5;124m'\u001B[39m\u001B[38;5;124mendpoint_override\u001B[39m\u001B[38;5;124m'\u001B[39m]\n\u001B[1;32m   1241\u001B[0m auth \u001B[38;5;241m=\u001B[39m \u001B[38;5;28mself\u001B[39m\u001B[38;5;241m.\u001B[39m_auth_required(auth, \u001B[38;5;124m'\u001B[39m\u001B[38;5;124mdetermine endpoint URL\u001B[39m\u001B[38;5;124m'\u001B[39m)\n\u001B[0;32m-> 1243\u001B[0m \u001B[38;5;28;01mreturn\u001B[39;00m \u001B[43mauth\u001B[49m\u001B[38;5;241;43m.\u001B[39;49m\u001B[43mget_endpoint\u001B[49m\u001B[43m(\u001B[49m\u001B[38;5;28;43mself\u001B[39;49m\u001B[43m,\u001B[49m\u001B[43m \u001B[49m\u001B[38;5;241;43m*\u001B[39;49m\u001B[38;5;241;43m*\u001B[39;49m\u001B[43mkwargs\u001B[49m\u001B[43m)\u001B[49m\n",
      "File \u001B[0;32m~/miniconda3/envs/flox-experiments/lib/python3.11/site-packages/keystoneauth1/identity/base.py:375\u001B[0m, in \u001B[0;36mBaseIdentityPlugin.get_endpoint\u001B[0;34m(self, session, service_type, interface, region_name, service_name, version, allow, allow_version_hack, skip_discovery, min_version, max_version, **kwargs)\u001B[0m\n\u001B[1;32m    368\u001B[0m min_version, max_version \u001B[38;5;241m=\u001B[39m discover\u001B[38;5;241m.\u001B[39m_normalize_version_args(\n\u001B[1;32m    369\u001B[0m     version, min_version, max_version, service_type\u001B[38;5;241m=\u001B[39mservice_type)\n\u001B[1;32m    370\u001B[0m \u001B[38;5;66;03m# Set discover_versions to False since we're only going to return\u001B[39;00m\n\u001B[1;32m    371\u001B[0m \u001B[38;5;66;03m# a URL. Fetching the microversion data would be needlessly\u001B[39;00m\n\u001B[1;32m    372\u001B[0m \u001B[38;5;66;03m# expensive in the common case. However, discover_versions=False\u001B[39;00m\n\u001B[1;32m    373\u001B[0m \u001B[38;5;66;03m# will still run discovery if the version requested is not the\u001B[39;00m\n\u001B[1;32m    374\u001B[0m \u001B[38;5;66;03m# version in the catalog.\u001B[39;00m\n\u001B[0;32m--> 375\u001B[0m endpoint_data \u001B[38;5;241m=\u001B[39m \u001B[38;5;28;43mself\u001B[39;49m\u001B[38;5;241;43m.\u001B[39;49m\u001B[43mget_endpoint_data\u001B[49m\u001B[43m(\u001B[49m\n\u001B[1;32m    376\u001B[0m \u001B[43m    \u001B[49m\u001B[43msession\u001B[49m\u001B[43m,\u001B[49m\u001B[43m \u001B[49m\u001B[43mservice_type\u001B[49m\u001B[38;5;241;43m=\u001B[39;49m\u001B[43mservice_type\u001B[49m\u001B[43m,\u001B[49m\u001B[43m \u001B[49m\u001B[43minterface\u001B[49m\u001B[38;5;241;43m=\u001B[39;49m\u001B[43minterface\u001B[49m\u001B[43m,\u001B[49m\n\u001B[1;32m    377\u001B[0m \u001B[43m    \u001B[49m\u001B[43mregion_name\u001B[49m\u001B[38;5;241;43m=\u001B[39;49m\u001B[43mregion_name\u001B[49m\u001B[43m,\u001B[49m\u001B[43m \u001B[49m\u001B[43mservice_name\u001B[49m\u001B[38;5;241;43m=\u001B[39;49m\u001B[43mservice_name\u001B[49m\u001B[43m,\u001B[49m\n\u001B[1;32m    378\u001B[0m \u001B[43m    \u001B[49m\u001B[43mallow\u001B[49m\u001B[38;5;241;43m=\u001B[39;49m\u001B[43mallow\u001B[49m\u001B[43m,\u001B[49m\u001B[43m \u001B[49m\u001B[43mmin_version\u001B[49m\u001B[38;5;241;43m=\u001B[39;49m\u001B[43mmin_version\u001B[49m\u001B[43m,\u001B[49m\u001B[43m \u001B[49m\u001B[43mmax_version\u001B[49m\u001B[38;5;241;43m=\u001B[39;49m\u001B[43mmax_version\u001B[49m\u001B[43m,\u001B[49m\n\u001B[1;32m    379\u001B[0m \u001B[43m    \u001B[49m\u001B[43mdiscover_versions\u001B[49m\u001B[38;5;241;43m=\u001B[39;49m\u001B[38;5;28;43;01mFalse\u001B[39;49;00m\u001B[43m,\u001B[49m\u001B[43m \u001B[49m\u001B[43mskip_discovery\u001B[49m\u001B[38;5;241;43m=\u001B[39;49m\u001B[43mskip_discovery\u001B[49m\u001B[43m,\u001B[49m\n\u001B[1;32m    380\u001B[0m \u001B[43m    \u001B[49m\u001B[43mallow_version_hack\u001B[49m\u001B[38;5;241;43m=\u001B[39;49m\u001B[43mallow_version_hack\u001B[49m\u001B[43m,\u001B[49m\u001B[43m \u001B[49m\u001B[38;5;241;43m*\u001B[39;49m\u001B[38;5;241;43m*\u001B[39;49m\u001B[43mkwargs\u001B[49m\u001B[43m)\u001B[49m\n\u001B[1;32m    381\u001B[0m \u001B[38;5;28;01mreturn\u001B[39;00m endpoint_data\u001B[38;5;241m.\u001B[39murl \u001B[38;5;28;01mif\u001B[39;00m endpoint_data \u001B[38;5;28;01melse\u001B[39;00m \u001B[38;5;28;01mNone\u001B[39;00m\n",
      "File \u001B[0;32m~/miniconda3/envs/flox-experiments/lib/python3.11/site-packages/keystoneauth1/identity/base.py:271\u001B[0m, in \u001B[0;36mBaseIdentityPlugin.get_endpoint_data\u001B[0;34m(self, session, service_type, interface, region_name, service_name, allow, allow_version_hack, discover_versions, skip_discovery, min_version, max_version, endpoint_override, **kwargs)\u001B[0m\n\u001B[1;32m    268\u001B[0m \u001B[38;5;28;01mif\u001B[39;00m \u001B[38;5;129;01mnot\u001B[39;00m interface:\n\u001B[1;32m    269\u001B[0m     interface \u001B[38;5;241m=\u001B[39m \u001B[38;5;124m'\u001B[39m\u001B[38;5;124mpublic\u001B[39m\u001B[38;5;124m'\u001B[39m\n\u001B[0;32m--> 271\u001B[0m service_catalog \u001B[38;5;241m=\u001B[39m \u001B[38;5;28;43mself\u001B[39;49m\u001B[38;5;241;43m.\u001B[39;49m\u001B[43mget_access\u001B[49m\u001B[43m(\u001B[49m\u001B[43msession\u001B[49m\u001B[43m)\u001B[49m\u001B[38;5;241m.\u001B[39mservice_catalog\n\u001B[1;32m    272\u001B[0m project_id \u001B[38;5;241m=\u001B[39m \u001B[38;5;28mself\u001B[39m\u001B[38;5;241m.\u001B[39mget_project_id(session)\n\u001B[1;32m    273\u001B[0m \u001B[38;5;66;03m# NOTE(mordred): service_catalog.url_data_for raises if it can't\u001B[39;00m\n\u001B[1;32m    274\u001B[0m \u001B[38;5;66;03m# find a match, so this will always be a valid object.\u001B[39;00m\n",
      "File \u001B[0;32m~/miniconda3/envs/flox-experiments/lib/python3.11/site-packages/keystoneauth1/identity/base.py:134\u001B[0m, in \u001B[0;36mBaseIdentityPlugin.get_access\u001B[0;34m(self, session, **kwargs)\u001B[0m\n\u001B[1;32m    132\u001B[0m \u001B[38;5;28;01mwith\u001B[39;00m \u001B[38;5;28mself\u001B[39m\u001B[38;5;241m.\u001B[39m_lock:\n\u001B[1;32m    133\u001B[0m     \u001B[38;5;28;01mif\u001B[39;00m \u001B[38;5;28mself\u001B[39m\u001B[38;5;241m.\u001B[39m_needs_reauthenticate():\n\u001B[0;32m--> 134\u001B[0m         \u001B[38;5;28mself\u001B[39m\u001B[38;5;241m.\u001B[39mauth_ref \u001B[38;5;241m=\u001B[39m \u001B[38;5;28;43mself\u001B[39;49m\u001B[38;5;241;43m.\u001B[39;49m\u001B[43mget_auth_ref\u001B[49m\u001B[43m(\u001B[49m\u001B[43msession\u001B[49m\u001B[43m)\u001B[49m\n\u001B[1;32m    136\u001B[0m \u001B[38;5;28;01mreturn\u001B[39;00m \u001B[38;5;28mself\u001B[39m\u001B[38;5;241m.\u001B[39mauth_ref\n",
      "File \u001B[0;32m~/miniconda3/envs/flox-experiments/lib/python3.11/site-packages/keystoneauth1/identity/v3/base.py:187\u001B[0m, in \u001B[0;36mAuth.get_auth_ref\u001B[0;34m(self, session, **kwargs)\u001B[0m\n\u001B[1;32m    184\u001B[0m     token_url \u001B[38;5;241m+\u001B[39m\u001B[38;5;241m=\u001B[39m \u001B[38;5;124m'\u001B[39m\u001B[38;5;124m?nocatalog\u001B[39m\u001B[38;5;124m'\u001B[39m\n\u001B[1;32m    186\u001B[0m _logger\u001B[38;5;241m.\u001B[39mdebug(\u001B[38;5;124m'\u001B[39m\u001B[38;5;124mMaking authentication request to \u001B[39m\u001B[38;5;132;01m%s\u001B[39;00m\u001B[38;5;124m'\u001B[39m, token_url)\n\u001B[0;32m--> 187\u001B[0m resp \u001B[38;5;241m=\u001B[39m \u001B[43msession\u001B[49m\u001B[38;5;241;43m.\u001B[39;49m\u001B[43mpost\u001B[49m\u001B[43m(\u001B[49m\u001B[43mtoken_url\u001B[49m\u001B[43m,\u001B[49m\u001B[43m \u001B[49m\u001B[43mjson\u001B[49m\u001B[38;5;241;43m=\u001B[39;49m\u001B[43mbody\u001B[49m\u001B[43m,\u001B[49m\u001B[43m \u001B[49m\u001B[43mheaders\u001B[49m\u001B[38;5;241;43m=\u001B[39;49m\u001B[43mheaders\u001B[49m\u001B[43m,\u001B[49m\n\u001B[1;32m    188\u001B[0m \u001B[43m                    \u001B[49m\u001B[43mauthenticated\u001B[49m\u001B[38;5;241;43m=\u001B[39;49m\u001B[38;5;28;43;01mFalse\u001B[39;49;00m\u001B[43m,\u001B[49m\u001B[43m \u001B[49m\u001B[43mlog\u001B[49m\u001B[38;5;241;43m=\u001B[39;49m\u001B[38;5;28;43;01mFalse\u001B[39;49;00m\u001B[43m,\u001B[49m\u001B[43m \u001B[49m\u001B[38;5;241;43m*\u001B[39;49m\u001B[38;5;241;43m*\u001B[39;49m\u001B[43mrkwargs\u001B[49m\u001B[43m)\u001B[49m\n\u001B[1;32m    190\u001B[0m \u001B[38;5;28;01mtry\u001B[39;00m:\n\u001B[1;32m    191\u001B[0m     _logger\u001B[38;5;241m.\u001B[39mdebug(json\u001B[38;5;241m.\u001B[39mdumps(resp\u001B[38;5;241m.\u001B[39mjson()))\n",
      "File \u001B[0;32m~/miniconda3/envs/flox-experiments/lib/python3.11/site-packages/keystoneauth1/session.py:1149\u001B[0m, in \u001B[0;36mSession.post\u001B[0;34m(self, url, **kwargs)\u001B[0m\n\u001B[1;32m   1143\u001B[0m \u001B[38;5;28;01mdef\u001B[39;00m \u001B[38;5;21mpost\u001B[39m(\u001B[38;5;28mself\u001B[39m, url, \u001B[38;5;241m*\u001B[39m\u001B[38;5;241m*\u001B[39mkwargs):\n\u001B[1;32m   1144\u001B[0m \u001B[38;5;250m    \u001B[39m\u001B[38;5;124;03m\"\"\"Perform a POST request.\u001B[39;00m\n\u001B[1;32m   1145\u001B[0m \n\u001B[1;32m   1146\u001B[0m \u001B[38;5;124;03m    This calls :py:meth:`.request()` with ``method`` set to ``POST``.\u001B[39;00m\n\u001B[1;32m   1147\u001B[0m \n\u001B[1;32m   1148\u001B[0m \u001B[38;5;124;03m    \"\"\"\u001B[39;00m\n\u001B[0;32m-> 1149\u001B[0m     \u001B[38;5;28;01mreturn\u001B[39;00m \u001B[38;5;28;43mself\u001B[39;49m\u001B[38;5;241;43m.\u001B[39;49m\u001B[43mrequest\u001B[49m\u001B[43m(\u001B[49m\u001B[43murl\u001B[49m\u001B[43m,\u001B[49m\u001B[43m \u001B[49m\u001B[38;5;124;43m'\u001B[39;49m\u001B[38;5;124;43mPOST\u001B[39;49m\u001B[38;5;124;43m'\u001B[39;49m\u001B[43m,\u001B[49m\u001B[43m \u001B[49m\u001B[38;5;241;43m*\u001B[39;49m\u001B[38;5;241;43m*\u001B[39;49m\u001B[43mkwargs\u001B[49m\u001B[43m)\u001B[49m\n",
      "File \u001B[0;32m~/miniconda3/envs/flox-experiments/lib/python3.11/site-packages/keystoneauth1/session.py:986\u001B[0m, in \u001B[0;36mSession.request\u001B[0;34m(self, url, method, json, original_ip, user_agent, redirect, authenticated, endpoint_filter, auth, requests_auth, raise_exc, allow_reauth, log, endpoint_override, connect_retries, logger, allow, client_name, client_version, microversion, microversion_service_type, status_code_retries, retriable_status_codes, rate_semaphore, global_request_id, connect_retry_delay, status_code_retry_delay, **kwargs)\u001B[0m\n\u001B[1;32m    983\u001B[0m \u001B[38;5;28;01mif\u001B[39;00m raise_exc \u001B[38;5;129;01mand\u001B[39;00m resp\u001B[38;5;241m.\u001B[39mstatus_code \u001B[38;5;241m>\u001B[39m\u001B[38;5;241m=\u001B[39m \u001B[38;5;241m400\u001B[39m:\n\u001B[1;32m    984\u001B[0m     logger\u001B[38;5;241m.\u001B[39mdebug(\u001B[38;5;124m'\u001B[39m\u001B[38;5;124mRequest returned failure status: \u001B[39m\u001B[38;5;132;01m%s\u001B[39;00m\u001B[38;5;124m'\u001B[39m,\n\u001B[1;32m    985\u001B[0m                  resp\u001B[38;5;241m.\u001B[39mstatus_code)\n\u001B[0;32m--> 986\u001B[0m     \u001B[38;5;28;01mraise\u001B[39;00m exceptions\u001B[38;5;241m.\u001B[39mfrom_response(resp, method, url)\n\u001B[1;32m    988\u001B[0m \u001B[38;5;28;01mif\u001B[39;00m \u001B[38;5;28mself\u001B[39m\u001B[38;5;241m.\u001B[39m_collect_timing:\n\u001B[1;32m    989\u001B[0m     \u001B[38;5;28;01mfor\u001B[39;00m h \u001B[38;5;129;01min\u001B[39;00m resp\u001B[38;5;241m.\u001B[39mhistory:\n",
      "\u001B[0;31mBadRequest\u001B[0m: Invalid input for field 'identity/token/id': None is not of type 'string'\n\nFailed validating 'type' in schema['properties']['identity']['properties']['token']['properties']['id']:\n    {'type': 'string'}\n\nOn instance['identity']['token']['id']:\n    None (HTTP 400) (Request-ID: req-397902ac-ba14-467b-b772-87083f491b5d)"
     ]
    }
   ],
   "source": [
    "workers = []\n",
    "for i in range(N_DEVICES):\n",
    "    w = create_container(\n",
    "        USERNAME, MACHINE_NAME, RESERVATION, DOCKER_IMAGE,\n",
    "        CONTAINER_PORTS, CONTAINER_ENV, name_suffix=f\"{i}\"\n",
    "    )\n",
    "    workers.append(w)\n",
    "\n",
    "workers"
   ],
   "metadata": {
    "collapsed": false,
    "ExecuteTime": {
     "end_time": "2024-03-29T18:45:59.240891Z",
     "start_time": "2024-03-29T18:45:58.585209Z"
    }
   },
   "id": "4f5dbc3589c42484",
   "execution_count": 4
  },
  {
   "cell_type": "code",
   "outputs": [],
   "source": [],
   "metadata": {
    "collapsed": false
   },
   "id": "32ab0d4ac003e056"
  }
 ],
 "metadata": {
  "kernelspec": {
   "display_name": "Python 3",
   "language": "python",
   "name": "python3"
  },
  "language_info": {
   "codemirror_mode": {
    "name": "ipython",
    "version": 2
   },
   "file_extension": ".py",
   "mimetype": "text/x-python",
   "name": "python",
   "nbconvert_exporter": "python",
   "pygments_lexer": "ipython2",
   "version": "2.7.6"
  }
 },
 "nbformat": 4,
 "nbformat_minor": 5
}
